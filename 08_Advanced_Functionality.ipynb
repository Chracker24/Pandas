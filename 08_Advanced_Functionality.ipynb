{
 "cells": [
  {
   "cell_type": "code",
   "execution_count": 1,
   "id": "07b79811",
   "metadata": {},
   "outputs": [],
   "source": [
    "import pandas as pd\n",
    "import numpy as np\n",
    "jee = pd.read_csv('JEE_Dropout_After_Class_12.csv', delimiter=',')"
   ]
  },
  {
   "cell_type": "markdown",
   "id": "c85685b9",
   "metadata": {},
   "source": [
    "## Advanced Functionality"
   ]
  },
  {
   "cell_type": "markdown",
   "id": "f7aa4897",
   "metadata": {},
   "source": [
    "### .shift(1) can be used to fill in a column with data from another column but with a one place difference for better comparison\n",
    "### can do percentage differences after that, usually better for revenue comparison between days, moneths or years\n",
    "\n",
    "### .rank assigns ranks to the column specfiied and can be used for better sort_values() usage"
   ]
  },
  {
   "cell_type": "code",
   "execution_count": 2,
   "id": "860c8bf3",
   "metadata": {},
   "outputs": [
    {
     "data": {
      "text/html": [
       "<div>\n",
       "<style scoped>\n",
       "    .dataframe tbody tr th:only-of-type {\n",
       "        vertical-align: middle;\n",
       "    }\n",
       "\n",
       "    .dataframe tbody tr th {\n",
       "        vertical-align: top;\n",
       "    }\n",
       "\n",
       "    .dataframe thead th {\n",
       "        text-align: right;\n",
       "    }\n",
       "</style>\n",
       "<table border=\"1\" class=\"dataframe\">\n",
       "  <thead>\n",
       "    <tr style=\"text-align: right;\">\n",
       "      <th></th>\n",
       "      <th>jee_main_score</th>\n",
       "      <th>jee_advanced_score</th>\n",
       "      <th>mock_test_score_avg</th>\n",
       "      <th>school_board</th>\n",
       "      <th>class_12_percent</th>\n",
       "      <th>attempt_count</th>\n",
       "      <th>coaching_institute</th>\n",
       "      <th>daily_study_hours</th>\n",
       "      <th>family_income</th>\n",
       "      <th>parent_education</th>\n",
       "      <th>location_type</th>\n",
       "      <th>peer_pressure_level</th>\n",
       "      <th>mental_health_issues</th>\n",
       "      <th>admission_taken</th>\n",
       "      <th>dropout</th>\n",
       "      <th>AIR</th>\n",
       "    </tr>\n",
       "  </thead>\n",
       "  <tbody>\n",
       "    <tr>\n",
       "      <th>0</th>\n",
       "      <td>78.95</td>\n",
       "      <td>59.22</td>\n",
       "      <td>59.86</td>\n",
       "      <td>CBSE</td>\n",
       "      <td>70.09</td>\n",
       "      <td>1</td>\n",
       "      <td>FIITJEE</td>\n",
       "      <td>5.4</td>\n",
       "      <td>Low</td>\n",
       "      <td>Upto 10th</td>\n",
       "      <td>Urban</td>\n",
       "      <td>Low</td>\n",
       "      <td>No</td>\n",
       "      <td>No</td>\n",
       "      <td>1</td>\n",
       "      <td>3300.0</td>\n",
       "    </tr>\n",
       "    <tr>\n",
       "      <th>1</th>\n",
       "      <td>70.06</td>\n",
       "      <td>58.75</td>\n",
       "      <td>64.33</td>\n",
       "      <td>State</td>\n",
       "      <td>78.00</td>\n",
       "      <td>1</td>\n",
       "      <td>FIITJEE</td>\n",
       "      <td>5.5</td>\n",
       "      <td>Mid</td>\n",
       "      <td>Upto 10th</td>\n",
       "      <td>Urban</td>\n",
       "      <td>Low</td>\n",
       "      <td>Yes</td>\n",
       "      <td>No</td>\n",
       "      <td>0</td>\n",
       "      <td>3364.0</td>\n",
       "    </tr>\n",
       "    <tr>\n",
       "      <th>2</th>\n",
       "      <td>81.07</td>\n",
       "      <td>37.27</td>\n",
       "      <td>60.83</td>\n",
       "      <td>ICSE</td>\n",
       "      <td>64.36</td>\n",
       "      <td>1</td>\n",
       "      <td>FIITJEE</td>\n",
       "      <td>7.0</td>\n",
       "      <td>Low</td>\n",
       "      <td>PG</td>\n",
       "      <td>Semi-Urban</td>\n",
       "      <td>Medium</td>\n",
       "      <td>Yes</td>\n",
       "      <td>No</td>\n",
       "      <td>1</td>\n",
       "      <td>4815.0</td>\n",
       "    </tr>\n",
       "    <tr>\n",
       "      <th>3</th>\n",
       "      <td>93.32</td>\n",
       "      <td>60.72</td>\n",
       "      <td>69.33</td>\n",
       "      <td>ICSE</td>\n",
       "      <td>73.21</td>\n",
       "      <td>1</td>\n",
       "      <td>FIITJEE</td>\n",
       "      <td>2.1</td>\n",
       "      <td>Low</td>\n",
       "      <td>12th</td>\n",
       "      <td>Semi-Urban</td>\n",
       "      <td>Medium</td>\n",
       "      <td>Yes</td>\n",
       "      <td>Yes</td>\n",
       "      <td>0</td>\n",
       "      <td>3117.0</td>\n",
       "    </tr>\n",
       "    <tr>\n",
       "      <th>4</th>\n",
       "      <td>68.72</td>\n",
       "      <td>77.73</td>\n",
       "      <td>82.37</td>\n",
       "      <td>CBSE</td>\n",
       "      <td>89.02</td>\n",
       "      <td>1</td>\n",
       "      <td>Allen</td>\n",
       "      <td>6.3</td>\n",
       "      <td>Mid</td>\n",
       "      <td>Graduate</td>\n",
       "      <td>Semi-Urban</td>\n",
       "      <td>High</td>\n",
       "      <td>No</td>\n",
       "      <td>Yes</td>\n",
       "      <td>0</td>\n",
       "      <td>1148.0</td>\n",
       "    </tr>\n",
       "  </tbody>\n",
       "</table>\n",
       "</div>"
      ],
      "text/plain": [
       "   jee_main_score  jee_advanced_score  mock_test_score_avg school_board  \\\n",
       "0           78.95               59.22                59.86         CBSE   \n",
       "1           70.06               58.75                64.33        State   \n",
       "2           81.07               37.27                60.83         ICSE   \n",
       "3           93.32               60.72                69.33         ICSE   \n",
       "4           68.72               77.73                82.37         CBSE   \n",
       "\n",
       "   class_12_percent  attempt_count coaching_institute  daily_study_hours  \\\n",
       "0             70.09              1            FIITJEE                5.4   \n",
       "1             78.00              1            FIITJEE                5.5   \n",
       "2             64.36              1            FIITJEE                7.0   \n",
       "3             73.21              1            FIITJEE                2.1   \n",
       "4             89.02              1              Allen                6.3   \n",
       "\n",
       "  family_income parent_education location_type peer_pressure_level  \\\n",
       "0           Low        Upto 10th         Urban                 Low   \n",
       "1           Mid        Upto 10th         Urban                 Low   \n",
       "2           Low               PG    Semi-Urban              Medium   \n",
       "3           Low             12th    Semi-Urban              Medium   \n",
       "4           Mid         Graduate    Semi-Urban                High   \n",
       "\n",
       "  mental_health_issues admission_taken  dropout     AIR  \n",
       "0                   No              No        1  3300.0  \n",
       "1                  Yes              No        0  3364.0  \n",
       "2                  Yes              No        1  4815.0  \n",
       "3                  Yes             Yes        0  3117.0  \n",
       "4                   No             Yes        0  1148.0  "
      ]
     },
     "execution_count": 2,
     "metadata": {},
     "output_type": "execute_result"
    }
   ],
   "source": [
    "jee_ranked = jee.copy()\n",
    "jee_ranked['AIR'] = jee['jee_advanced_score'].rank(ascending=False, method=\"min\")\n",
    "jee_ranked.head()"
   ]
  },
  {
   "cell_type": "code",
   "execution_count": 3,
   "id": "5a916226",
   "metadata": {},
   "outputs": [
    {
     "data": {
      "text/plain": [
       "85     1.0\n",
       "86     1.0\n",
       "87     1.0\n",
       "88    89.0\n",
       "89    90.0\n",
       "90    91.0\n",
       "91    92.0\n",
       "92    93.0\n",
       "93    94.0\n",
       "94    95.0\n",
       "95    96.0\n",
       "Name: AIR, dtype: float64"
      ]
     },
     "execution_count": 3,
     "metadata": {},
     "output_type": "execute_result"
    }
   ],
   "source": [
    "jee_ranked = jee_ranked.sort_values('AIR').reset_index(drop=True)\n",
    "jee_ranked.loc[85:95][\"AIR\"]"
   ]
  },
  {
   "cell_type": "markdown",
   "id": "58704c21",
   "metadata": {},
   "source": [
    "### drop=True prevents the old serial numbers to be added into the new serial numbered dataframe as a new column, so that it \"drops\" it"
   ]
  },
  {
   "cell_type": "markdown",
   "id": "f240e940",
   "metadata": {},
   "source": [
    "### cumsum() does cumulative sum and what it means is that in the case of revenue as the rows progresses the revenue gets added up subsequently"
   ]
  },
  {
   "cell_type": "markdown",
   "id": "c6a06ca2",
   "metadata": {},
   "source": [
    "### .rolling() moves the operation by the number specified in the brackets, like sum, diff, etc"
   ]
  }
 ],
 "metadata": {
  "kernelspec": {
   "display_name": "base",
   "language": "python",
   "name": "python3"
  },
  "language_info": {
   "codemirror_mode": {
    "name": "ipython",
    "version": 3
   },
   "file_extension": ".py",
   "mimetype": "text/x-python",
   "name": "python",
   "nbconvert_exporter": "python",
   "pygments_lexer": "ipython3",
   "version": "3.12.4"
  }
 },
 "nbformat": 4,
 "nbformat_minor": 5
}
